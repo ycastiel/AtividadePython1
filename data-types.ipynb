{
 "cells": [
  {
   "cell_type": "markdown",
   "metadata": {},
   "source": [
    "# Exercícios Python\n",
    "\n",
    "## Exercícios com Tipos de dados e Variáveis\n",
    "\n",
    "Neste notebook, você encontrará exercícios relacionados a variáveis, tipos de dados, operações lógicas e matemáticas.\n",
    "\n",
    "### Dicas Importantes\n",
    "\n",
    "- **Não altere os nomes dos arquivos ou funções**: Isso pode fazer com que os testes automáticos falhem, mesmo que sua solução esteja correta.\n",
    "- **Leia os erros com atenção**: Eles podem fornecer dicas sobre o que está errado em seu código.\n",
    "- **Peça ajuda**: Se estiver tendo dificuldades, não hesite em pedir ajuda ao professor ou colegas.\n"
   ]
  },
  {
   "cell_type": "markdown",
   "metadata": {},
   "source": [
    "## Exemplo Resolvido:\n",
    "\n",
    "Declare uma variável chamada `nome` e atribua a ela o valor \"Python\".\n"
   ]
  },
  {
   "cell_type": "code",
   "execution_count": 18,
   "metadata": {},
   "outputs": [],
   "source": [
    "# Sua solução aqui\n",
    "\n",
    "nome = \"Python\""
   ]
  },
  {
   "cell_type": "markdown",
   "metadata": {},
   "source": [
    "## Exemplo Resolvido:\n",
    "\n",
    "Calcule a soma de `a` e `b` e armazene o resultado na variável `resultado_soma`.\n"
   ]
  },
  {
   "cell_type": "code",
   "execution_count": 40,
   "metadata": {},
   "outputs": [],
   "source": [
    "a = 10\n",
    "b = 20\n",
    "# Sua solução aqui\n",
    "\n",
    "resultado_soma = a+b"
   ]
  },
  {
   "cell_type": "markdown",
   "metadata": {},
   "source": [
    "## Agora é com você:\n",
    "\n",
    "Resolva os exercicios abaixo"
   ]
  },
  {
   "cell_type": "markdown",
   "metadata": {},
   "source": [
    "## Exercicios\n",
    "\n",
    "Determine o tipo de dado da variável `valor` e armazene-o na variável `tipo_valor`. Dica: use a função ``type()`` \n"
   ]
  },
  {
   "cell_type": "code",
   "execution_count": 4,
   "metadata": {},
   "outputs": [
    {
     "name": "stdout",
     "output_type": "stream",
     "text": [
      "<class 'float'>\n"
     ]
    }
   ],
   "source": [
    "valor = 123.45\n",
    "\n",
    "tipo_valor = type(valor)\n",
    "print(tipo_valor)\n"
   ]
  },
  {
   "cell_type": "markdown",
   "metadata": {},
   "source": [
    "Determine se `x` é maior que `y` e armazene o resultado na variável `x_maior_que_y`.\n"
   ]
  },
  {
   "cell_type": "code",
   "execution_count": 1,
   "metadata": {},
   "outputs": [
    {
     "name": "stdout",
     "output_type": "stream",
     "text": [
      "True\n"
     ]
    }
   ],
   "source": [
    "x = 15\n",
    "y = 10\n",
    "\n",
    "x_maior_que_y = x > y\n",
    "print(x_maior_que_y)"
   ]
  },
  {
   "cell_type": "markdown",
   "metadata": {},
   "source": [
    "Calcule a subtração de `x` e `y` e armazene o resultado na variável `resultado_subtacao`."
   ]
  },
  {
   "cell_type": "code",
   "execution_count": 5,
   "metadata": {},
   "outputs": [
    {
     "name": "stdout",
     "output_type": "stream",
     "text": [
      "5\n"
     ]
    }
   ],
   "source": [
    "x = 15\n",
    "y = 10\n",
    "\n",
    "resultado_subtracao = x - y\n",
    "print(resultado_subtracao)\n",
    "\n"
   ]
  },
  {
   "cell_type": "markdown",
   "metadata": {},
   "source": [
    "Calcule a divisão de `x` e `y` e armazene o resultado na variável `resultado_divisao`."
   ]
  },
  {
   "cell_type": "code",
   "execution_count": 6,
   "metadata": {},
   "outputs": [
    {
     "name": "stdout",
     "output_type": "stream",
     "text": [
      "2.0\n"
     ]
    }
   ],
   "source": [
    "x = 20\n",
    "y = 10\n",
    "\n",
    "resultado_divisao = x / y\n",
    "print(resultado_divisao)\n",
    "\n",
    "\n"
   ]
  },
  {
   "cell_type": "markdown",
   "metadata": {},
   "source": [
    "Calcule a divisão inteira de `x` e `y` e armazene o resultado na variável `resultado_divisao_inteira`."
   ]
  },
  {
   "cell_type": "code",
   "execution_count": 7,
   "metadata": {},
   "outputs": [
    {
     "name": "stdout",
     "output_type": "stream",
     "text": [
      "1\n"
     ]
    }
   ],
   "source": [
    "x = 15\n",
    "y = 10\n",
    "\n",
    "resultado_divisao_inteira = x // y \n",
    "print(resultado_divisao_inteira)\n",
    "\n"
   ]
  },
  {
   "cell_type": "markdown",
   "metadata": {},
   "source": [
    "Calcule a exponenciação de `x` elevado a `y` e armazene o resultado na variável `resultado_exponenciacao`."
   ]
  },
  {
   "cell_type": "code",
   "execution_count": 8,
   "metadata": {},
   "outputs": [
    {
     "name": "stdout",
     "output_type": "stream",
     "text": [
      "4\n"
     ]
    }
   ],
   "source": [
    "x = 2\n",
    "y = 2\n",
    "\n",
    "resultado_exponenciacao = x ** y\n",
    "print(resultado_exponenciacao)\n",
    "\n",
    "\n"
   ]
  },
  {
   "cell_type": "markdown",
   "metadata": {},
   "source": [
    "Declare a variável `Celsius` que recebe o valor de 24 ºC. Converta essa temperatura para Fahrenheit e armazene na variavel `fahrenheit`."
   ]
  },
  {
   "cell_type": "code",
   "execution_count": 10,
   "metadata": {},
   "outputs": [
    {
     "name": "stdout",
     "output_type": "stream",
     "text": [
      "A temperatura convertida será: 75.2\n"
     ]
    }
   ],
   "source": [
    "Celsius = 24\n",
    "Fahrenheit = (Celsius * 9/5) + 32\n",
    "\n",
    "print(f\"A temperatura convertida será: {Fahrenheit}\")\n",
    "\n",
    "\n",
    "\n"
   ]
  },
  {
   "cell_type": "markdown",
   "metadata": {},
   "source": [
    "Determine a média das notas e atribua o resultado a variavel `media`. O resultado deve ter 1 casa decimal"
   ]
  },
  {
   "cell_type": "code",
   "execution_count": 11,
   "metadata": {},
   "outputs": [
    {
     "name": "stdout",
     "output_type": "stream",
     "text": [
      "7.6\n"
     ]
    }
   ],
   "source": [
    "nota1 = 5\n",
    "nota2 = 8.6\n",
    "nota3 = 9.2\n",
    "\n",
    "media = (nota1 + nota2 + nota3) / 3\n",
    "media_arredondada = round(media, 1)\n",
    "print(media_arredondada)\n",
    "\n"
   ]
  },
  {
   "cell_type": "markdown",
   "metadata": {},
   "source": [
    "Declare uma variável chamada `nome_completo` que concatena as variaveis `nome1` e `sobrenome`."
   ]
  },
  {
   "cell_type": "code",
   "execution_count": 12,
   "metadata": {},
   "outputs": [
    {
     "name": "stdout",
     "output_type": "stream",
     "text": [
      "João Silva\n"
     ]
    }
   ],
   "source": [
    "nome1 = \"João\"\n",
    "sobrenome = \"Silva\"\n",
    "\n",
    "nome_completo = nome1 + \" \" + sobrenome\n",
    "print(nome_completo)\n",
    "\n",
    "\n"
   ]
  },
  {
   "cell_type": "markdown",
   "metadata": {},
   "source": [
    "Escreva o código que remova espaços em branco no início e no final da variavel `materia` e salva na propria variável `materia`"
   ]
  },
  {
   "cell_type": "code",
   "execution_count": 13,
   "metadata": {},
   "outputs": [
    {
     "name": "stdout",
     "output_type": "stream",
     "text": [
      "Computacional Thinking\n"
     ]
    }
   ],
   "source": [
    "materia = \"   Computacional Thinking   \"\n",
    "\n",
    "materia = materia.strip()\n",
    "print(materia)\n",
    "\n",
    "\n",
    "\n"
   ]
  },
  {
   "cell_type": "markdown",
   "metadata": {},
   "source": [
    "Declare uma variável chamada `texto_maiusculo` que converte para maiúsculo o conteúdo da variavel `texto`."
   ]
  },
  {
   "cell_type": "code",
   "execution_count": 14,
   "metadata": {},
   "outputs": [
    {
     "name": "stdout",
     "output_type": "stream",
     "text": [
      "OLÁ, MUNDO!\n"
     ]
    }
   ],
   "source": [
    "texto = \"Olá, Mundo!\"\n",
    "\n",
    "texto_maiusculo = texto.upper()\n",
    "print(texto_maiusculo)\n",
    "\n",
    "\n"
   ]
  },
  {
   "cell_type": "markdown",
   "metadata": {},
   "source": [
    "Declare uma variável chamada `texto_substituido` que Substitui \"Mundo\" por \"Universo\" da variavel `texto`."
   ]
  },
  {
   "cell_type": "code",
   "execution_count": 15,
   "metadata": {},
   "outputs": [
    {
     "name": "stdout",
     "output_type": "stream",
     "text": [
      "O universo é lindo\n"
     ]
    }
   ],
   "source": [
    "original_string = \"O mundo é lindo\"\n",
    "texto_antigo = \"O mundo é lindo\"\n",
    "novo_texto = \"O universo é lindo\"\n",
    "\n",
    "nova_string = original_string.replace(texto_antigo, novo_texto)\n",
    "print(nova_string)\n",
    "\n",
    "\n"
   ]
  },
  {
   "cell_type": "markdown",
   "metadata": {},
   "source": [
    "Converta esse valor `real` para dólares e salve em `dolar` use 2 casas decimais na resposta. Considere que 1 dolar é equivalente 5,23 reais.\n"
   ]
  },
  {
   "cell_type": "code",
   "execution_count": 16,
   "metadata": {},
   "outputs": [
    {
     "name": "stdout",
     "output_type": "stream",
     "text": [
      "164.97\n"
     ]
    }
   ],
   "source": [
    "real = 862.78\n",
    "taxa = 5.23\n",
    "dolar = real / taxa\n",
    "dolar = round(dolar, 2)\n",
    "print(dolar)\n",
    "\n"
   ]
  },
  {
   "cell_type": "markdown",
   "metadata": {},
   "source": [
    "\n",
    "Um móbile de berço de bebê é composto de três hastes como mostrado na figura. Para que ele esteja completamente equilibrado, com todas as hastes na horizontal, os pesos das quatro bolas A, B, C e D têm que satisfazer todas as seguintes três condições:\n",
    "\n",
    "- A = B + C + D; e\n",
    "- B + C = D; e\n",
    "- B = C\n",
    "\n",
    " <img src=\"https://olimpiada.ic.unicamp.br/static/img/task_images/2015f1pj_mobile.png\">\n",
    "\n",
    "Crie a variavel `esta_equilibrado` é do tipo booleana e retorna `true` quando as 4 entradas estão em equilibrio e `false` quando não estão em equilibrio.\n",
    "\n",
    "Dica: a saida será verdadeira para: A = 12; B = 3; C = 3; D = 6.\n"
   ]
  },
  {
   "cell_type": "code",
   "execution_count": 18,
   "metadata": {},
   "outputs": [],
   "source": [
    "A = 12\n",
    "B = 3\n",
    "C = 3\n",
    "D = 6\n",
    "\n",
    "def verificar_equilibrio(A, B, C, D):\n",
    "    return A == B + C + D and B + C == D and B == C\n",
    "\n",
    "    esta_equilibrado = verificar_equilibrio(A, B, C, D)\n",
    "    print(esta_equilibrado)"
   ]
  }
 ],
 "metadata": {
  "kernelspec": {
   "display_name": "Python 3",
   "language": "python",
   "name": "python3"
  },
  "language_info": {
   "codemirror_mode": {
    "name": "ipython",
    "version": 3
   },
   "file_extension": ".py",
   "mimetype": "text/x-python",
   "name": "python",
   "nbconvert_exporter": "python",
   "pygments_lexer": "ipython3",
   "version": "3.11.5"
  },
  "orig_nbformat": 4
 },
 "nbformat": 4,
 "nbformat_minor": 2
}
